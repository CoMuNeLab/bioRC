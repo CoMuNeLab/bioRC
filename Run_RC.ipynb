{
 "cells": [
  {
   "cell_type": "markdown",
   "metadata": {},
   "source": [
    "# Run RC"
   ]
  },
  {
   "cell_type": "code",
   "execution_count": 1,
   "metadata": {
    "ExecuteTime": {
     "end_time": "2021-09-09T14:22:48.248310Z",
     "start_time": "2021-09-09T14:22:47.976701Z"
    }
   },
   "outputs": [],
   "source": [
    "import os\n",
    "import subprocess\n",
    "import csv\n",
    "import pandas as pd\n",
    "from joblib import Parallel, delayed"
   ]
  },
  {
   "cell_type": "code",
   "execution_count": 2,
   "metadata": {
    "ExecuteTime": {
     "end_time": "2021-09-09T14:26:18.266871Z",
     "start_time": "2021-09-09T14:26:18.251113Z"
    }
   },
   "outputs": [],
   "source": [
    "signals = ['fBrownTurb_H075_D1',\n",
    "'LorenzX_s50_patch_IkedaX',\n",
    "'RosslerX_s20',\n",
    "'HenonX',              \n",
    "'LorenzX_s50',   \n",
    "'White',\n",
    "'IkedaX',             \n",
    "'MackeyGlass_t17']\n",
    "\n",
    "SNRs = [0, 5, 10, 25, 50, 100]\n",
    "\n",
    "networks = os.listdir('./Networks/Emp_connectomes')"
   ]
  },
  {
   "cell_type": "markdown",
   "metadata": {
    "ExecuteTime": {
     "end_time": "2021-09-09T13:32:20.435743Z",
     "start_time": "2021-09-09T13:32:20.425143Z"
    }
   },
   "source": [
    "## Empirical connectomes"
   ]
  },
  {
   "cell_type": "code",
   "execution_count": null,
   "metadata": {
    "ExecuteTime": {
     "end_time": "2021-09-09T13:46:30.004824Z",
     "start_time": "2021-09-09T13:46:29.991841Z"
    }
   },
   "outputs": [],
   "source": [
    "net_folder = './Networks/Emp_connectomes'\n",
    "sig_folder = './signals'\n",
    "res_folder = './results_Emp'"
   ]
  },
  {
   "cell_type": "code",
   "execution_count": null,
   "metadata": {
    "ExecuteTime": {
     "end_time": "2021-09-09T13:49:08.329122Z",
     "start_time": "2021-09-09T13:49:08.325640Z"
    }
   },
   "outputs": [],
   "source": [
    "for j in signals:\n",
    "    if not os.path.exists(res_folder + '/'+ j):\n",
    "        os.mkdir(res_folder + '/'+ j)"
   ]
  },
  {
   "cell_type": "code",
   "execution_count": null,
   "metadata": {},
   "outputs": [],
   "source": [
    "SNRs[0:1]"
   ]
  },
  {
   "cell_type": "code",
   "execution_count": null,
   "metadata": {
    "ExecuteTime": {
     "end_time": "2021-09-09T13:49:09.349511Z",
     "start_time": "2021-09-09T13:49:09.333520Z"
    }
   },
   "outputs": [],
   "source": [
    "def run_emp(networks, signal, SNRs):\n",
    "    \n",
    "    for network in networks[4:5]: #networks:\n",
    "        for SNR in SNRs[0:1]:  #SNRs:\n",
    "            \n",
    "            res_name = res_folder + '/' + signal + '/' + network + '__' + signal + '.txt' + '__' + str(SNR) + '.rds'\n",
    "\n",
    "            if not os.path.exists(res_name):\n",
    "                subprocess.run(['Rscript', 'batch_analysis.R',\n",
    "                                            '0', # <N>\n",
    "                                            net_folder + '/' + network, #<edgeslist>\n",
    "                                            sig_folder + '/' + signal + '.txt', # <signal>\n",
    "                                            str(SNR), # <SNR>\n",
    "                                            '20', #<MC> realizzazioni random di RC?\n",
    "                                            res_name # <outfile.rds>\n",
    "                                           ])\n",
    "                \n",
    "# subprocess running external programs and reading their outputs in your Python code."
   ]
  },
  {
   "cell_type": "code",
   "execution_count": null,
   "metadata": {
    "ExecuteTime": {
     "end_time": "2021-09-09T13:50:33.835221Z",
     "start_time": "2021-09-09T13:50:16.432839Z"
    }
   },
   "outputs": [],
   "source": [
    "Parallel(n_jobs=-1, verbose=10)(delayed(run_emp)(networks, signal, SNRs) for signal in signals)"
   ]
  },
  {
   "cell_type": "markdown",
   "metadata": {},
   "source": [
    "## Synthetic connectomes"
   ]
  },
  {
   "cell_type": "code",
   "execution_count": null,
   "metadata": {
    "ExecuteTime": {
     "end_time": "2021-09-09T14:23:02.864308Z",
     "start_time": "2021-09-09T14:23:02.858594Z"
    }
   },
   "outputs": [],
   "source": [
    "def run_syn(networks, signal, SNRs):\n",
    "\n",
    "    for r in range(1): #range(20): # 20 different random initializations of the weights\n",
    "\n",
    "        if not os.path.exists(res_folder + '/' + signal + '/' + str(r)):\n",
    "            os.mkdir(res_folder + '/' + signal + '/' + str(r))\n",
    "\n",
    "        for network in networks[4:5]: #networks:\n",
    "            for SNR in SNRs[0:1]:  #SNRs:\n",
    "\n",
    "                res_name = res_folder + '/' + signal + '/' + str(r) + '/'+ network + '__' + signal + '.txt' + '__' + str(SNR) + '.rds'\n",
    "                \n",
    "                if not os.path.exists(res_name):\n",
    "                    subprocess.run(['Rscript', 'batch_analysis.R',\n",
    "                                    '0', \n",
    "                                    net_folder + '/' + str(r) + '/' + network,\n",
    "                                    sig_folder + '/' + signal + '.txt', \n",
    "                                    str(SNR), \n",
    "                                    '1',\n",
    "                                    res_name\n",
    "                                   ])"
   ]
  },
  {
   "cell_type": "markdown",
   "metadata": {},
   "source": [
    "### Configuration Models"
   ]
  },
  {
   "cell_type": "code",
   "execution_count": null,
   "metadata": {
    "ExecuteTime": {
     "end_time": "2021-09-09T14:23:04.626631Z",
     "start_time": "2021-09-09T14:23:04.616937Z"
    }
   },
   "outputs": [],
   "source": [
    "net_folder = './Networks/CM_connectomes'\n",
    "sig_folder = './signals'\n",
    "res_folder = './results_CM'"
   ]
  },
  {
   "cell_type": "code",
   "execution_count": null,
   "metadata": {
    "ExecuteTime": {
     "end_time": "2021-09-09T14:23:05.366102Z",
     "start_time": "2021-09-09T14:23:05.339067Z"
    }
   },
   "outputs": [],
   "source": [
    "for j in signals:\n",
    "    if not os.path.exists(res_folder + '/'+ j):\n",
    "        os.mkdir(res_folder + '/'+ j)"
   ]
  },
  {
   "cell_type": "code",
   "execution_count": null,
   "metadata": {
    "ExecuteTime": {
     "end_time": "2021-09-09T14:24:41.371994Z",
     "start_time": "2021-09-09T14:23:10.625464Z"
    }
   },
   "outputs": [],
   "source": [
    "Parallel(n_jobs=-1, verbose=10)(delayed(run_syn)(networks, signal, SNRs) for signal in signals)"
   ]
  },
  {
   "cell_type": "markdown",
   "metadata": {},
   "source": [
    "### Erdos Renyi"
   ]
  },
  {
   "cell_type": "code",
   "execution_count": null,
   "metadata": {
    "ExecuteTime": {
     "end_time": "2021-09-09T14:25:51.969139Z",
     "start_time": "2021-09-09T14:25:51.960321Z"
    }
   },
   "outputs": [],
   "source": [
    "net_folder = './Networks/ER_connectomes'\n",
    "sig_folder = './signals'\n",
    "res_folder = './results_ER'"
   ]
  },
  {
   "cell_type": "code",
   "execution_count": null,
   "metadata": {
    "ExecuteTime": {
     "end_time": "2021-09-09T14:26:23.909037Z",
     "start_time": "2021-09-09T14:26:23.893633Z"
    }
   },
   "outputs": [],
   "source": [
    "for j in signals:\n",
    "    if not os.path.exists(res_folder + '/'+ j):\n",
    "        os.mkdir(res_folder + '/'+ j)"
   ]
  },
  {
   "cell_type": "code",
   "execution_count": null,
   "metadata": {
    "ExecuteTime": {
     "end_time": "2021-09-09T14:27:16.912074Z",
     "start_time": "2021-09-09T14:26:25.609690Z"
    }
   },
   "outputs": [],
   "source": [
    "Parallel(n_jobs=-1, verbose=10)(delayed(run_syn)(networks, signal, SNRs) for signal in signals)"
   ]
  },
  {
   "cell_type": "markdown",
   "metadata": {},
   "source": [
    "# Process results"
   ]
  },
  {
   "cell_type": "code",
   "execution_count": null,
   "metadata": {},
   "outputs": [],
   "source": [
    "def getMSE(Y, Yt, errorLen, norm = False):\n",
    "           \n",
    "    mse = np.sum((Y[:errorLen] - Yt[:errorLen]) ** 2) / errorLen\n",
    "        \n",
    "    if norm == True:\n",
    "        mse = mse / np.std(Yt[:errorLen])\n",
    "        \n",
    "    return mse  "
   ]
  },
  {
   "cell_type": "markdown",
   "metadata": {},
   "source": [
    "## Empirical connectomes"
   ]
  },
  {
   "cell_type": "code",
   "execution_count": null,
   "metadata": {},
   "outputs": [],
   "source": [
    "def MSE_writer_emp(file_name, path, signal, res_name, r):\n",
    "\n",
    "    file_path = path + '/' + signal + '/' + str(r) + '/' + file_name          \n",
    "    file_rds = robjects.r['readRDS'](file_path)\n",
    "    \n",
    "    gc.collect()\n",
    "                \n",
    "    base, ext = os.path.splitext(file_name)\n",
    "    base, ext = base.rsplit(\"__\", 1)\n",
    "    base, gar = os.path.splitext(base)\n",
    "    base, gar = base.rsplit(\"__\", 1)\n",
    "    \n",
    "    tau = [2**(i) for i in range(2,13)]\n",
    "    initLen = 100\n",
    "    trainLen = 2500\n",
    "    testLen = 5000\n",
    "\n",
    "    Yt = np.array(file_rds[0][0][trainLen+1:trainLen+testLen+1]).reshape(testLen,1)\n",
    "    Y = np.array(file_rds[0][1]).reshape(testLen,1)\n",
    "\n",
    "    for t in tau:\n",
    "        mse = getMSE(Y, Yt, t, False)\n",
    "        mse_norm = getMSE(Y, Yt, t, True)\n",
    "\n",
    "        with open(res_name, \"a\") as f:\n",
    "            writer = csv.writer(f)\n",
    "            writer.writerow((base, ext, r, t, mse, mse_norm))\n",
    "    \n",
    "    del file_rds\n",
    "    gc.collect()"
   ]
  },
  {
   "cell_type": "markdown",
   "metadata": {},
   "source": [
    "## Synthetic connectomes"
   ]
  },
  {
   "cell_type": "code",
   "execution_count": null,
   "metadata": {},
   "outputs": [],
   "source": [
    "def MSE_writer_syn(file_name, path, signal, res_name, r):\n",
    "\n",
    "    file_path = path + '/' + signal + '/' + str(r) + '/' + file_name          \n",
    "    file_rds = robjects.r['readRDS'](file_path)\n",
    "    \n",
    "    gc.collect()\n",
    "                \n",
    "    base, ext = os.path.splitext(file_name)\n",
    "    base, ext = base.rsplit(\"__\", 1)\n",
    "    base, gar = os.path.splitext(base)\n",
    "    base, gar = base.rsplit(\"__\", 1)\n",
    "    \n",
    "    tau = [2**(i) for i in range(2,13)]\n",
    "    initLen = 100\n",
    "    trainLen = 2500\n",
    "    testLen = 5000\n",
    "\n",
    "    Yt = np.array(file_rds[0][0][trainLen+1:trainLen+testLen+1]).reshape(testLen,1)\n",
    "    Y = np.array(file_rds[0][1]).reshape(testLen,1)\n",
    "\n",
    "    for t in tau:\n",
    "        mse = getMSE(Y, Yt, t, False)\n",
    "        mse_norm = getMSE(Y, Yt, t, True)\n",
    "\n",
    "        with open(res_name, \"a\") as f:\n",
    "            writer = csv.writer(f)\n",
    "            writer.writerow((base, ext, r, t, mse, mse_norm))\n",
    "    \n",
    "    del file_rds\n",
    "    gc.collect()"
   ]
  },
  {
   "cell_type": "code",
   "execution_count": null,
   "metadata": {},
   "outputs": [],
   "source": [
    "def process_signal_syn(signal, res_folder):\n",
    "    \n",
    "    res_name = './' + res_folder + '/' + signal + '.txt'\n",
    "\n",
    "    if os.path.exists(res_name):\n",
    "        os.remove(res_name)\n",
    "    \n",
    "    for r in range(20):\n",
    "        file_names = os.listdir(path + '/' + signal + '/' + str(r))\n",
    "        file_names.sort()\n",
    "\n",
    "        for i in range(len(file_names)):\n",
    "            print(signal, r, i)\n",
    "            MSE_writer(file_names[i], path, signal, res_name, r)"
   ]
  },
  {
   "cell_type": "markdown",
   "metadata": {
    "ExecuteTime": {
     "end_time": "2021-09-09T14:35:16.115172Z",
     "start_time": "2021-09-09T14:35:16.103113Z"
    }
   },
   "source": [
    "### Configuration Model"
   ]
  },
  {
   "cell_type": "code",
   "execution_count": null,
   "metadata": {
    "ExecuteTime": {
     "end_time": "2021-09-09T14:33:53.073952Z",
     "start_time": "2021-09-09T14:33:53.058696Z"
    }
   },
   "outputs": [],
   "source": [
    "res_folder = 'results_CM_processed'\n",
    "path = './results_CM'\n",
    "\n",
    "if not os.path.exists(res_folder):\n",
    "    os.mkdir(res_folder)"
   ]
  },
  {
   "cell_type": "code",
   "execution_count": null,
   "metadata": {},
   "outputs": [],
   "source": [
    "Parallel(n_jobs=-1, verbose=50)(delayed(process_signal_syn)(signal, res_folder) for signal in signals)"
   ]
  },
  {
   "cell_type": "markdown",
   "metadata": {},
   "source": [
    "### Erdos Renyi"
   ]
  },
  {
   "cell_type": "code",
   "execution_count": null,
   "metadata": {},
   "outputs": [],
   "source": [
    "res_folder = 'results_ER_processed'\n",
    "path = './results_ER'\n",
    "\n",
    "if not os.path.exists(res_folder):\n",
    "    os.mkdir(res_folder)"
   ]
  },
  {
   "cell_type": "code",
   "execution_count": null,
   "metadata": {},
   "outputs": [],
   "source": [
    "Parallel(n_jobs=-1, verbose=50)(delayed(process_signal_syn)(signal, res_folder) for signal in signals)"
   ]
  },
  {
   "cell_type": "code",
   "execution_count": null,
   "metadata": {},
   "outputs": [],
   "source": []
  },
  {
   "cell_type": "code",
   "execution_count": null,
   "metadata": {},
   "outputs": [],
   "source": []
  },
  {
   "cell_type": "code",
   "execution_count": null,
   "metadata": {},
   "outputs": [],
   "source": []
  },
  {
   "cell_type": "code",
   "execution_count": null,
   "metadata": {},
   "outputs": [],
   "source": []
  },
  {
   "cell_type": "code",
   "execution_count": 4,
   "metadata": {},
   "outputs": [
    {
     "name": "stdout",
     "output_type": "stream",
     "text": [
      "fBrownTurb_H075_D1 0 0\n"
     ]
    }
   ],
   "source": [
    "signal=signals[0]\n",
    "path='/Volumes/GoogleDrive/Il mio Drive/backup_Michele/results_SBM'\n",
    "for r in range(20):\n",
    "    file_names = os.listdir(path + '/' + signal + '/' + str(r))\n",
    "    file_names.sort()\n",
    "\n",
    "    for i in range(len(file_names)):\n",
    "        print(signal, r, i)\n",
    "        #MSE_writer(file_names[i], path, signal, res_name, r)\n",
    "        break\n",
    "    break"
   ]
  },
  {
   "cell_type": "markdown",
   "metadata": {},
   "source": [
    "### Rank covariance matrix"
   ]
  },
  {
   "cell_type": "code",
   "execution_count": null,
   "metadata": {},
   "outputs": [],
   "source": []
  }
 ],
 "metadata": {
  "kernelspec": {
   "display_name": "Python 3",
   "language": "python",
   "name": "python3"
  },
  "language_info": {
   "codemirror_mode": {
    "name": "ipython",
    "version": 3
   },
   "file_extension": ".py",
   "mimetype": "text/x-python",
   "name": "python",
   "nbconvert_exporter": "python",
   "pygments_lexer": "ipython3",
   "version": "3.7.1"
  }
 },
 "nbformat": 4,
 "nbformat_minor": 4
}
