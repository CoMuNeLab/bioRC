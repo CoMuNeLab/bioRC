{
 "cells": [
  {
   "cell_type": "markdown",
   "metadata": {},
   "source": [
    "# Generate networks from empirical connectomes"
   ]
  },
  {
   "cell_type": "code",
   "execution_count": null,
   "metadata": {
    "ExecuteTime": {
     "end_time": "2021-09-10T16:43:18.185986Z",
     "start_time": "2021-09-10T16:43:17.163972Z"
    }
   },
   "outputs": [],
   "source": [
    "import numpy as np\n",
    "import pandas as pd\n",
    "import matplotlib.pyplot as plt\n",
    "import os\n",
    "import csv\n",
    "from joblib import Parallel, delayed\n",
    "import networkx as nx\n",
    "import igraph as ig\n",
    "import random\n",
    "import graph_tool.all as gt\n",
    "import subprocess"
   ]
  },
  {
   "cell_type": "markdown",
   "metadata": {},
   "source": [
    "## Functions"
   ]
  },
  {
   "cell_type": "code",
   "execution_count": null,
   "metadata": {
    "ExecuteTime": {
     "end_time": "2021-09-10T16:43:18.194327Z",
     "start_time": "2021-09-10T16:43:18.187985Z"
    }
   },
   "outputs": [],
   "source": [
    "def from_edge_to_adj(edges): # Dataframe with edges\n",
    "\n",
    "    edge1 = list(edges[0]-1)\n",
    "    edge2 = list(edges[1]-1)\n",
    "\n",
    "    N = np.max(edge1+edge2)+1\n",
    "\n",
    "    adj_mat = np.zeros([N,N], dtype=int)\n",
    "\n",
    "    for i in range(len(edge1)):\n",
    "        adj_mat[edge1[i],edge2[i]] = 1\n",
    "        adj_mat[edge2[i],edge1[i]] = 1\n",
    "        \n",
    "    return adj_mat"
   ]
  },
  {
   "cell_type": "code",
   "execution_count": null,
   "metadata": {
    "ExecuteTime": {
     "end_time": "2021-09-10T16:43:18.540727Z",
     "start_time": "2021-09-10T16:43:18.534428Z"
    }
   },
   "outputs": [],
   "source": [
    "def mean_degree_ig(G): # Compute the mean degree of a network \n",
    "    \n",
    "    N = G.vcount()\n",
    "    \n",
    "    return np.sum(G.degree()) / N "
   ]
  },
  {
   "cell_type": "code",
   "execution_count": null,
   "metadata": {
    "ExecuteTime": {
     "end_time": "2021-09-10T16:43:19.124551Z",
     "start_time": "2021-09-10T16:43:19.108167Z"
    }
   },
   "outputs": [],
   "source": [
    "def mean_degree_nx(G): # Compute the mean degree of a network \n",
    "    \n",
    "    k = 0\n",
    "    N = G.number_of_nodes()\n",
    "    \n",
    "    for i in range(N):\n",
    "        k += G.degree[i]\n",
    "        \n",
    "    k_mean = k/N\n",
    "    \n",
    "    return k_mean"
   ]
  },
  {
   "cell_type": "markdown",
   "metadata": {},
   "source": [
    "### Networks"
   ]
  },
  {
   "cell_type": "code",
   "execution_count": null,
   "metadata": {
    "ExecuteTime": {
     "end_time": "2021-09-10T16:43:21.119999Z",
     "start_time": "2021-09-10T16:43:21.105160Z"
    }
   },
   "outputs": [],
   "source": [
    "foldername = './Emp_connectomes'\n",
    "\n",
    "filenames = os.listdir(foldername)\n",
    "filenames.sort()"
   ]
  },
  {
   "cell_type": "markdown",
   "metadata": {},
   "source": [
    "## Configuration Model"
   ]
  },
  {
   "cell_type": "code",
   "execution_count": null,
   "metadata": {
    "ExecuteTime": {
     "end_time": "2021-09-10T15:04:38.400598Z",
     "start_time": "2021-09-10T15:04:38.377418Z"
    }
   },
   "outputs": [],
   "source": [
    "def write_CM(filename):\n",
    "\n",
    "    read_filename = foldername + '/' + filename\n",
    "\n",
    "    read_edges = pd.read_csv(read_filename, sep=\" \", header=None)\n",
    "    read_edges = read_edges.drop(read_edges.columns[-1],axis=1)\n",
    "    read_adj = from_edge_to_adj(read_edges)\n",
    "    read_deg_list = list(read_adj.sum(axis=0))\n",
    "\n",
    "    for i in range(20):\n",
    "        \n",
    "        if not os.path.exists('./CM_connectomes/' + str(i)):\n",
    "            os.mkdir('./CM_connectomes/' + str(i))\n",
    "\n",
    "        g_ig = ig.GraphBase.Degree_Sequence(read_deg_list, method = \"vl\")\n",
    "        g_nx = nx.from_numpy_matrix( np.array(g_ig.get_adjacency()) )\n",
    "\n",
    "        write_edges = list(g_nx.edges())\n",
    "\n",
    "        write_filename = './CM_connectomes/' + str(i) + '/' + filename\n",
    "\n",
    "        if os.path.exists(write_filename):\n",
    "            os.remove(write_filename)\n",
    "\n",
    "        for r in write_edges:\n",
    "            with open(write_filename, \"a\") as f:\n",
    "                writer = csv.writer(f, delimiter=' ')\n",
    "                writer.writerow((r[0] + 1, r[1] + 1))"
   ]
  },
  {
   "cell_type": "code",
   "execution_count": null,
   "metadata": {
    "ExecuteTime": {
     "end_time": "2021-09-10T15:04:42.486380Z",
     "start_time": "2021-09-10T15:04:39.148147Z"
    },
    "scrolled": true
   },
   "outputs": [],
   "source": [
    "#Parallel(n_jobs=-1, verbose=50)(delayed(write_CM)(file) for file in filenames)"
   ]
  },
  {
   "cell_type": "code",
   "execution_count": null,
   "metadata": {
    "ExecuteTime": {
     "end_time": "2021-09-09T13:19:41.203079Z",
     "start_time": "2021-09-09T13:19:41.089413Z"
    }
   },
   "outputs": [],
   "source": [
    "# Check networks\n",
    "read_filename = './CM_connectomes/' + '0' + '/' + filenames[0]\n",
    "read_edges = pd.read_csv(read_filename, sep=\" \", header=None)\n",
    "read_adj = from_edge_to_adj(read_edges)\n",
    "\n",
    "g = nx.from_numpy_matrix(read_adj)\n",
    "print('N:', g.number_of_nodes())\n",
    "print('k:', mean_degree_nx(g))"
   ]
  },
  {
   "cell_type": "markdown",
   "metadata": {},
   "source": [
    "## Erdos Renyi"
   ]
  },
  {
   "cell_type": "code",
   "execution_count": null,
   "metadata": {
    "ExecuteTime": {
     "end_time": "2021-09-09T13:22:13.328947Z",
     "start_time": "2021-09-09T13:22:13.300098Z"
    }
   },
   "outputs": [],
   "source": [
    "def write_ER(filename):\n",
    "\n",
    "    read_filename = foldername + '/' + filename\n",
    "\n",
    "    read_edges = pd.read_csv(read_filename, sep=\" \", header=None)\n",
    "    read_edges = read_edges.drop(read_edges.columns[-1],axis=1)\n",
    "    read_adj = from_edge_to_adj(read_edges)\n",
    "    g = nx.from_numpy_matrix(read_adj)\n",
    "    \n",
    "    N = g.number_of_nodes()\n",
    "    k = mean_degree_nx(g)\n",
    "\n",
    "    for i in range(20):\n",
    "        \n",
    "        if not os.path.exists('./ER_connectomes/' + str(i)):\n",
    "            os.mkdir('./ER_connectomes/' + str(i))\n",
    "\n",
    "        print(i)\n",
    "        \n",
    "        p = k / (N - 1)\n",
    "        g_ER = nx.erdos_renyi_graph(N, p)\n",
    "\n",
    "        print(mean_degree_nx(g_ER))\n",
    "\n",
    "        write_edges = list(g_ER.edges())\n",
    "\n",
    "        write_filename = './ER_connectomes/' + str(i) + '/' + filename\n",
    "\n",
    "        if os.path.exists(write_filename):\n",
    "            os.remove(write_filename)\n",
    "\n",
    "        for r in write_edges:\n",
    "            with open(write_filename, \"a\") as f:\n",
    "                writer = csv.writer(f, delimiter=' ')\n",
    "                writer.writerow((r[0] + 1, r[1] + 1))"
   ]
  },
  {
   "cell_type": "code",
   "execution_count": null,
   "metadata": {
    "ExecuteTime": {
     "end_time": "2021-09-09T13:25:09.588051Z",
     "start_time": "2021-09-09T13:22:13.701907Z"
    }
   },
   "outputs": [],
   "source": [
    "#Parallel(n_jobs=-1, verbose=50)(delayed(write_ER)(file) for file in filenames)"
   ]
  },
  {
   "cell_type": "code",
   "execution_count": null,
   "metadata": {
    "ExecuteTime": {
     "end_time": "2021-09-09T13:25:09.625755Z",
     "start_time": "2021-09-09T13:25:09.590728Z"
    }
   },
   "outputs": [],
   "source": [
    "# Check networks\n",
    "read_filename = './ER_connectomes/' + '0' + '/' + filenames[0]\n",
    "read_edges = pd.read_csv(read_filename, sep=\" \", header=None)\n",
    "read_adj = from_edge_to_adj(read_edges)\n",
    "\n",
    "g = nx.from_numpy_matrix(read_adj)\n",
    "print('N:', g.number_of_nodes())\n",
    "print('k:', mean_degree_nx(g))"
   ]
  },
  {
   "cell_type": "markdown",
   "metadata": {},
   "source": [
    "## Stochastic Block Model"
   ]
  },
  {
   "cell_type": "code",
   "execution_count": null,
   "metadata": {
    "ExecuteTime": {
     "end_time": "2021-09-10T16:43:25.384292Z",
     "start_time": "2021-09-10T16:43:25.356323Z"
    }
   },
   "outputs": [],
   "source": [
    "def block_pref_write(read_filename):\n",
    "    \n",
    "    read_edges = pd.read_csv(read_filename, sep=\" \", header=None)\n",
    "    read_edges = read_edges.drop(read_edges.columns[-1],axis=1)\n",
    "    read_adj = from_edge_to_adj(read_edges)\n",
    "    \n",
    "    g = gt.Graph(directed=False)\n",
    "    g.add_edge_list(np.transpose(read_adj.nonzero()))\n",
    "\n",
    "    state = gt.minimize_blockmodel_dl(g)\n",
    "    entr  = state.entropy()\n",
    "    for i in range(1,2):\n",
    "        state_n = gt.minimize_blockmodel_dl(g)\n",
    "        entr_n  = state_n.entropy()\n",
    "        if entr_n < entr:\n",
    "            state = state_n\n",
    "            entr  = entr_n\n",
    "\n",
    "    e = state.get_matrix()\n",
    "    e1 = pd.DataFrame(e.toarray())\n",
    "\n",
    "    # Block sizes\n",
    "    b = state.get_blocks()\n",
    "\n",
    "    v = list()\n",
    "    for e in b: v.append(e)\n",
    "\n",
    "    d = dict()\n",
    "    for e in v:\n",
    "        if e not in d: d[e] = 1\n",
    "        else:          d[e] = d[e] + 1\n",
    "\n",
    "    mydict = dict()\n",
    "    for key in sorted(d): mydict[key] = d[key]\n",
    "\n",
    "    bs = list()\n",
    "    for key in mydict: bs.append(mydict[key])\n",
    "\n",
    "    df = pd.DataFrame(np.array(bs).reshape(1,len(bs)), columns=None)\n",
    "    df.to_csv('block_sizes.csv', header=False, index=False)\n",
    "\n",
    "    # Pref matrix\n",
    "    e1 = e1/2\n",
    "    for i in range(0,len(e1)):\n",
    "        e1[i][i] = e1[i][i]/2\n",
    "        \n",
    "    tot_poss_edge = pd.DataFrame(np.zeros((len(e1),len(e1))))\n",
    "    \n",
    "    for i in range(0,len(tot_poss_edge)):\n",
    "        tot_poss_edge[i][i] = (df[i][0]*(df[i][0]-1))/2\n",
    "        \n",
    "    for i in range(0, len(tot_poss_edge)):\n",
    "        for j in range(0, len(tot_poss_edge)):\n",
    "            if i != j:\n",
    "                tot_poss_edge[i][j] = df[i][0]*df[j][0]\n",
    "    \n",
    "    pref = e1/tot_poss_edge\n",
    "    pref.to_csv('pref_matrix.csv', header=False, index=False)"
   ]
  },
  {
   "cell_type": "code",
   "execution_count": null,
   "metadata": {
    "ExecuteTime": {
     "end_time": "2021-09-10T16:43:26.008828Z",
     "start_time": "2021-09-10T16:43:25.987820Z"
    }
   },
   "outputs": [],
   "source": [
    "def write_SBM(filename, inputpath, outputpath):\n",
    "    \n",
    "    read_filename = inputpath + '/' + filename\n",
    "    \n",
    "    block_pref_write(read_filename)\n",
    "    \n",
    "    subprocess.run(['Rscript', 'SBM_gen.R', outputpath  + '/' + filename])\n",
    "    \n",
    "    os.remove('block_sizes.csv')\n",
    "    os.remove('pref_matrix.csv')"
   ]
  },
  {
   "cell_type": "code",
   "execution_count": null,
   "metadata": {
    "ExecuteTime": {
     "end_time": "2021-09-10T16:46:02.273017Z",
     "start_time": "2021-09-10T16:43:42.776116Z"
    }
   },
   "outputs": [],
   "source": [
    "for i in range(20):\n",
    "        \n",
    "    outputpath = './SBM_connectomes/' + str(i)\n",
    "    \n",
    "    if not os.path.exists(outputpath):\n",
    "        os.makedirs(outputpath)\n",
    "    \n",
    "    for filename in filenames:\n",
    "        print(i, filename)\n",
    "        write_SBM(filename, foldername, outputpath)"
   ]
  },
  {
   "cell_type": "code",
   "execution_count": null,
   "metadata": {
    "ExecuteTime": {
     "end_time": "2021-09-10T16:42:19.211543Z",
     "start_time": "2021-09-10T16:42:19.171925Z"
    }
   },
   "outputs": [],
   "source": [
    "# Check networks\n",
    "read_filename = './SBM_connectomes/' + '0' + '/' + filenames[0]\n",
    "read_edges = pd.read_csv(read_filename, sep=\" \", header=None)\n",
    "read_adj = from_edge_to_adj(read_edges)\n",
    "\n",
    "g = nx.from_numpy_matrix(read_adj)\n",
    "print('N:', g.number_of_nodes())\n",
    "print('k:', mean_degree_nx(g))"
   ]
  }
 ],
 "metadata": {
  "kernelspec": {
   "display_name": "Python 3",
   "language": "python",
   "name": "python3"
  },
  "language_info": {
   "codemirror_mode": {
    "name": "ipython",
    "version": 3
   },
   "file_extension": ".py",
   "mimetype": "text/x-python",
   "name": "python",
   "nbconvert_exporter": "python",
   "pygments_lexer": "ipython3",
   "version": "3.7.1"
  }
 },
 "nbformat": 4,
 "nbformat_minor": 4
}
